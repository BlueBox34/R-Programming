{
  "cells": [
    {
      "cell_type": "code",
      "execution_count": 1,
      "metadata": {
        "id": "X1rossT21y7v"
      },
      "outputs": [],
      "source": [
        "import random  # imprt random for method ramdom.sample\n",
        "import itertools # imprt itertools for combine type set*set two list in one list"
      ]
    },
    {
      "cell_type": "code",
      "execution_count": 2,
      "metadata": {
        "id": "uWPrhxWHtBWC"
      },
      "outputs": [],
      "source": [
        "vals = [\"ace\", \"2\", \"3\", \"4\", \"5\", \"6\", \"7\", \"8\", \"9\", \"10\", \"jack\", \"queen\", \"king\"] # init value of card\n",
        "suits = [\"spade\", \"heart\", \"diamond\", \"club\"] # init suits of card"
      ]
    },
    {
      "cell_type": "code",
      "execution_count": 3,
      "metadata": {
        "colab": {
          "base_uri": "https://localhost:8080/"
        },
        "id": "4NJkXBRruCLA",
        "outputId": "a95304b5-2b43-4626-aab0-8fe2bc8bc762"
      },
      "outputs": [
        {
          "name": "stdout",
          "output_type": "stream",
          "text": [
            "52\n"
          ]
        }
      ],
      "source": [
        "card_deck = itertools.product(vals,suits) # combine list value and list suits form set*set \n",
        "clist = [] # create new list for input card_deck because card is product can't ues method \n",
        "for i in card_deck:  # for each card_deck get every i on card_deck\n",
        "  clist.append(i) # add i into clist\n",
        "\n",
        "print(len(clist)) # Check length of clist equal reality"
      ]
    },
    {
      "cell_type": "code",
      "execution_count": 4,
      "metadata": {
        "id": "YXPm6AEsuXi-"
      },
      "outputs": [],
      "source": [
        "def fprobability(): # create funtion find probability  \n",
        "    count = 0 # create index count for count set\n",
        "    for i in range(0, 1000000): # forloop 1,000,000 round\n",
        "      cardofrandom = random.sample(clist, k= 4) # random clist 4 round by there will be a value of the value with suit per round\n",
        "      value = [] # create array to init value cardofrandom\n",
        "      for j in cardofrandom:# for each all element in cardofrandom\n",
        "       value.append(j[0])# put only vals of card in to value\n",
        "      \n",
        "      if len(set(value)) == 1:# take values those are not repeat in the list will enter this if\n",
        "        count += 1 # count++\n",
        "    return count/1000000 # return probability"
      ]
    },
    {
      "cell_type": "code",
      "execution_count": 5,
      "metadata": {
        "colab": {
          "base_uri": "https://localhost:8080/"
        },
        "id": "1I_3_fH13TO3",
        "outputId": "73eca126-fff7-4588-dd36-f63a27c21944"
      },
      "outputs": [
        {
          "name": "stdout",
          "output_type": "stream",
          "text": [
            "0.000052\n"
          ]
        }
      ],
      "source": [
        "print(\"{0:f}\".format(fprobability())) # print probability"
      ]
    },
    {
      "cell_type": "code",
      "execution_count": 6,
      "metadata": {
        "colab": {
          "base_uri": "https://localhost:8080/"
        },
        "id": "vChbjYpj6KY5",
        "outputId": "c869c3d4-20cb-488e-bbde-5d13f7f13c3c"
      },
      "outputs": [
        {
          "name": "stdout",
          "output_type": "stream",
          "text": [
            "0.00048138000000000033\n"
          ]
        }
      ],
      "source": [
        "value = 0 #init probability \n",
        "for i in range(0, 1000): # forloop 100 round\n",
        "  value += fprobability()# plus probability per round\n",
        "print(value/100)# print mean probability of 100 round"
      ]
    },
    {
      "cell_type": "code",
      "execution_count": 8,
      "metadata": {
        "colab": {
          "base_uri": "https://localhost:8080/"
        },
        "id": "nqvL-67CF7dE",
        "outputId": "2ee473e3-65cc-423d-cc03-33ef5219567b"
      },
      "outputs": [
        {
          "name": "stdout",
          "output_type": "stream",
          "text": [
            "0.000481\n"
          ]
        }
      ],
      "source": [
        "print(\"{0:f}\".format(value/100))# print mean probability of 100 round but format"
      ]
    },
    {
      "cell_type": "markdown",
      "metadata": {
        "id": "FFyYHKrJPngt"
      },
      "source": [
        "## using theoretical probability\n",
        "There are 4 suits x 13 values so there are *52 cards* with *4 cards have the same value*\n",
        "\n",
        "so the probability of drawing 4 cards of the same value/rank can break into 4 cases:\n",
        "1. We can pick any card since all card can have 3 more same values of card but other suits so the probability is 52/52 = 1 (have 4 spade, 4 diamond, 4 heart, 4 club)(e.g.pick 4 heart)\n",
        "2. We left with 3 cards out of 51 that have the same values but other suits so the probability is 3/51 $ \\approx 0.059 $ (left 4 spade, 4 diamond, 4 club) (e.g. pick 4 spade)\n",
        "3. We left with 2 cards out of 50 that have the same values but other suits so the probability is 2/50 = 0.04 (left 4 diamond, 4 club)(e.g. pick 4 diamond)\n",
        "3. We only have 1 card of 49 cards left that have the same values but other suits so the probability is 1/49 $ \\approx 0.02 $ (left 4 club)\n",
        "\n",
        "then $ P(s) = 1*0.059*0.04*0.02 \\approx 0.0000472 $  \n",
        "from mean of our program is cloes enough to theoretical probability"
      ]
    }
  ],
  "metadata": {
    "colab": {
      "collapsed_sections": [],
      "name": "Welcome To Colaboratory",
      "provenance": [],
      "toc_visible": true
    },
    "kernelspec": {
      "display_name": "Python 3",
      "name": "python3"
    },
    "language_info": {
      "codemirror_mode": {
        "name": "ipython",
        "version": 3
      },
      "file_extension": ".py",
      "mimetype": "text/x-python",
      "name": "python",
      "nbconvert_exporter": "python",
      "pygments_lexer": "ipython3",
      "version": "3.10.2"
    }
  },
  "nbformat": 4,
  "nbformat_minor": 0
}
